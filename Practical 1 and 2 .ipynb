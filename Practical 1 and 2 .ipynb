{
 "cells": [
  {
   "cell_type": "markdown",
   "metadata": {},
   "source": [
    "# Practical 1"
   ]
  },
  {
   "cell_type": "code",
   "execution_count": 2,
   "metadata": {
    "collapsed": false
   },
   "outputs": [
    {
     "name": "stdout",
     "output_type": "stream",
     "text": [
      "('\\n ORIGINAL DICTIONARY OF LISTS :', {'Boys': [72, 68, 70, 69, 74], 'Girls': [63, 65, 69, 62, 61]})\n",
      "check some value\n",
      "('\\n NOW LIST OF DICTIONARIES : \\n', [{'Boys': 72, 'Girls': 63}, {'Boys': 68, 'Girls': 65}, {'Boys': 70, 'Girls': 69}, {'Boys': 69, 'Girls': 62}, {'Boys': 74, 'Girls': 61}])\n"
     ]
    }
   ],
   "source": [
    "def list_of_dict(heights):\n",
    "    keys=heights.keys()\n",
    "    values = zip(*[heights[k] for k in keys]) \n",
    "    result = [dict(zip(keys,v )) for v in values]\n",
    "    return result\n",
    "\n",
    "heights = {'Boys':[72,68,70,69,74], 'Girls':[63,65,69,62,61]}\n",
    "print(\"\\n ORIGINAL DICTIONARY OF LISTS :\" , heights)\n",
    "print(\"\\n NOW LIST OF DICTIONARIES : \\n\",list_of_dict(heights))\n"
   ]
  },
  {
   "cell_type": "markdown",
   "metadata": {},
   "source": [
    "# Prcatical 2"
   ]
  },
  {
   "cell_type": "code",
   "execution_count": 2,
   "metadata": {
    "collapsed": true
   },
   "outputs": [],
   "source": [
    "import numpy as np"
   ]
  },
  {
   "cell_type": "code",
   "execution_count": 3,
   "metadata": {
    "collapsed": false
   },
   "outputs": [
    {
     "data": {
      "text/plain": [
       "array([[33, 11, 24, 13, 14, 40],\n",
       "       [17, 35, 19, 34, 12, 33],\n",
       "       [34, 11, 15, 23, 10, 45],\n",
       "       [14,  9,  6, 39, 33,  5]])"
      ]
     },
     "execution_count": 3,
     "metadata": {},
     "output_type": "execute_result"
    }
   ],
   "source": [
    "#part a\n",
    "arr = np.random.randint(1,50,(4,6))\n",
    "arr"
   ]
  },
  {
   "cell_type": "code",
   "execution_count": 4,
   "metadata": {
    "collapsed": false
   },
   "outputs": [
    {
     "name": "stdout",
     "output_type": "stream",
     "text": [
      "('Mean of the array: ', array([ 22.5       ,  25.        ,  23.        ,  17.66666667]))\n",
      "('Standard Deviation of the array: ', array([ 10.90489187,   9.25562892,  12.79322737,  13.38739042]))\n",
      "('Variance of the array: ', array([ 118.91666667,   85.66666667,  163.66666667,  179.22222222]))\n"
     ]
    }
   ],
   "source": [
    "#along the second axis\n",
    "#Mean\n",
    "print('Mean of the array: ',arr.mean(axis=1))\n",
    "#standard deviation\n",
    "print('Standard Deviation of the array: ',arr.std(axis=1))\n",
    "#variance\n",
    "print('Variance of the array: ',arr.var(axis=1))"
   ]
  },
  {
   "cell_type": "code",
   "execution_count": 5,
   "metadata": {
    "collapsed": false
   },
   "outputs": [
    {
     "data": {
      "text/plain": [
       "array([56, 48, 22, 41, 78, 91, 24, 46,  8, 33])"
      ]
     },
     "execution_count": 5,
     "metadata": {},
     "output_type": "execute_result"
    }
   ],
   "source": [
    "#part b\n",
    "B = [56, 48, 22, 41, 78, 91, 24, 46, 8, 33]\n",
    "arr1 = np.array(B)\n",
    "arr1"
   ]
  },
  {
   "cell_type": "code",
   "execution_count": 6,
   "metadata": {
    "collapsed": false
   },
   "outputs": [
    {
     "name": "stdout",
     "output_type": "stream",
     "text": [
      "('Sorted array: ', array([ 8, 22, 24, 33, 41, 46, 48, 56, 78, 91]))\n",
      "('Indices of the sorted elements of a given array: ', array([8, 2, 6, 9, 3, 7, 1, 0, 4, 5], dtype=int64))\n"
     ]
    }
   ],
   "source": [
    "print(\"Sorted array: \",np.sort(arr1))\n",
    "print(\"Indices of the sorted elements of a given array: \",np.argsort(arr1))"
   ]
  },
  {
   "cell_type": "code",
   "execution_count": 7,
   "metadata": {
    "collapsed": false
   },
   "outputs": [
    {
     "name": "stdout",
     "output_type": "stream",
     "text": [
      "Enter the number of rows(m): 5\n",
      "Enter the number of columns(n): 6\n",
      "[[35 44 50 41 13 92]\n",
      " [63 27 20 64 95 51]\n",
      " [43  1 99 69 60 76]\n",
      " [18 90 64 83 76 14]\n",
      " [19 72 50 42 24 21]]\n",
      "('Shape: ', (5L, 6L))\n",
      "('Type: ', <type 'numpy.ndarray'>)\n",
      "('Data Type: ', dtype('int32'))\n",
      "('After reshaping: \\n', array([[35, 44, 50, 41, 13],\n",
      "       [92, 63, 27, 20, 64],\n",
      "       [95, 51, 43,  1, 99],\n",
      "       [69, 60, 76, 18, 90],\n",
      "       [64, 83, 76, 14, 19],\n",
      "       [72, 50, 42, 24, 21]]))\n",
      "('New Shape: ', (6L, 5L))\n"
     ]
    }
   ],
   "source": [
    "#part c\n",
    "m = int(input('Enter the number of rows(m): '))\n",
    "n = int(input('Enter the number of columns(n): '))\n",
    "arr2 = np.random.randint(1,100,(m,n))\n",
    "print(arr2)\n",
    "print('Shape: ',arr2.shape)\n",
    "print('Type: ',type(arr2))\n",
    "print('Data Type: ',arr2.dtype)\n",
    "arr2 = arr2.reshape(n,m)\n",
    "print('After reshaping: \\n',arr2)\n",
    "print('New Shape: ',arr2.shape)"
   ]
  },
  {
   "cell_type": "code",
   "execution_count": 17,
   "metadata": {
    "collapsed": false
   },
   "outputs": [
    {
     "name": "stdout",
     "output_type": "stream",
     "text": [
      "('ORIGINAL ARRAY ::--> ', array([1, 0, 3, 4]))\n",
      "('\\nTest if none of the elements of the said array is zero ::--> ', False)\n",
      "('The index of the  zero elements is :: ', (array([1], dtype=int64),))\n",
      "\n",
      "-------------------------------------------------------\n",
      "('\\nORIGINAL ARRAY ::--> ', array([1, 0, 0, 3, 2, 0]))\n",
      "('\\nTest whether any of the elements of a given array is non-zero ::', True)\n",
      "('The index of the non- zero elements is :: ', (array([0, 3, 4], dtype=int64),))\n",
      "\n",
      "-------------------------------------------------------\n",
      "('\\nORIGINAL ARRAY ::--> ', array([  1.,   0.,  nan,   3.,  nan]))\n",
      "('\\nTest element-wise for NaN :: ', array([False, False,  True, False,  True], dtype=bool))\n",
      "('The index of the  zero elements is :: ', (array([2, 4], dtype=int64),))\n"
     ]
    }
   ],
   "source": [
    "#part D\n",
    "x = np.array([1, 0, 3, 4])\n",
    "print(\"ORIGINAL ARRAY ::--> \",x)\n",
    "print(\"\\nTest if none of the elements of the said array is zero ::--> \", np.all(x))\n",
    "\n",
    "res = np.where(x == 0)\n",
    "print(\"The index of the  zero elements is :: \",res)\n",
    "\n",
    "\n",
    "x = np.array([1, 0, 0, 3, 2, 0])\n",
    "print(\"\\n-------------------------------------------------------\")\n",
    "print(\"\\nORIGINAL ARRAY ::--> \",x)\n",
    "print(\"\\nTest whether any of the elements of a given array is non-zero ::\",np.any(x))\n",
    "res = np.where(x != 0)\n",
    "print(\"The index of the non- zero elements is :: \",res)\n",
    "x = np.array([0, 0, 0, 0])\n",
    "\n",
    "\n",
    "a = np.array([1, 0, np.nan, 3, np.nan])\n",
    "print(\"\\n-------------------------------------------------------\")\n",
    "print(\"\\nORIGINAL ARRAY ::--> \",a)\n",
    "print(\"\\nTest element-wise for NaN :: \",np.isnan(a))\n",
    "\n",
    "res = np.where(np.isnan(a) == True)\n",
    "print(\"The index of the  zero elements is :: \",res)"
   ]
  },
  {
   "cell_type": "code",
   "execution_count": null,
   "metadata": {
    "collapsed": true
   },
   "outputs": [],
   "source": []
  }
 ],
 "metadata": {
  "kernelspec": {
   "display_name": "Python 2",
   "language": "python",
   "name": "python2"
  },
  "language_info": {
   "codemirror_mode": {
    "name": "ipython",
    "version": 2
   },
   "file_extension": ".py",
   "mimetype": "text/x-python",
   "name": "python",
   "nbconvert_exporter": "python",
   "pygments_lexer": "ipython2",
   "version": "2.7.10"
  }
 },
 "nbformat": 4,
 "nbformat_minor": 4
}
